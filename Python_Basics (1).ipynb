{
  "cells": [
    {
      "cell_type": "markdown",
      "metadata": {
        "id": "49VSWJWFMZzF"
      },
      "source": [
        "1. What is python, and why it is popular?\n",
        "  - Python is a programming language that is easy to read and write. It is popular beacause it is simple to learn and it works on many devices. It has many readymade tools which is used in many task like web developer,data science and automation. so many big companies use it."
      ]
    },
    {
      "cell_type": "markdown",
      "metadata": {
        "id": "tyQK9qLTO3vI"
      },
      "source": [
        "2. What is an interpreter in python?\n",
        "  - An interpreter in python is a program that read and runs python code line by line . It helps execute code quickly without needing to covert it into machine language frist."
      ]
    },
    {
      "cell_type": "markdown",
      "metadata": {
        "id": "5rDzNnJnQLfy"
      },
      "source": [
        "3. What are pre-defined keywords in python?\n",
        "  - Pre- defined are reserved words that are have specific meaning.\n",
        "  \n",
        "    * Following are common python keywords:\n",
        "         *   def -> Defines a funcation\n",
        "         *   if, elif, else -> Used for conditions\n",
        "\n",
        "         *   for, while -> Used for loops\n",
        "         *   class -> Define a class\n",
        "\n",
        "         *   return ->Return a value from a function\n",
        "\n",
        "\n",
        "\n",
        "\n",
        "\n",
        "\n"
      ]
    },
    {
      "cell_type": "markdown",
      "metadata": {
        "id": "C0buBaWST3eK"
      },
      "source": [
        "4. Can keywords be used as variable names?\n",
        "  - No, keywords cannot be used as variable names in python. They are reserved for specific purposes in the language. if we try to use as a variable names, python will show a SyntaxError."
      ]
    },
    {
      "cell_type": "markdown",
      "metadata": {
        "id": "8oFg8MlpTJds"
      },
      "source": [
        "  5. What is mutability in python?\n",
        "   - In python , mutability determine whether an object state can be\n",
        "     change after it is created. We can modifie object without changing their identity.For example: list, dict, set."
      ]
    },
    {
      "cell_type": "markdown",
      "metadata": {
        "id": "wKuT3D8WWxa5"
      },
      "source": [
        "6. What are lists mutable, but tuples are immutable?\n",
        "  - Lists are mutable means we can change, add, or remove elements after it has created. Tuples are immutable means once created elements cannot change after it has created."
      ]
    },
    {
      "cell_type": "markdown",
      "metadata": {
        "id": "kf02ut5gY0SD"
      },
      "source": [
        "7. What is the difference between \"==\" and \"is\" operators in python?\n",
        "  - equal to (==) is comparison operator. It will check if values of two objects are the same. It will return true if both operands are equal.\n",
        "  \"is\"identity operator it will check if two objects refer to the same location. Even if two objects have tne same values, is returns Flase if they are stored separately.\n",
        "\n",
        "\n",
        "\n"
      ]
    },
    {
      "cell_type": "markdown",
      "metadata": {
        "id": "qeoiPSDJX6_A"
      },
      "source": [
        "8. What are logical operator in python?\n",
        "   - Logical operator are used to combine conditional statements. Python has three types of logical operator.\n",
        "\n",
        "    1.   and -> Returns True if both conditions are True\n",
        "    2.   or -> Return True if at least one condition is True\n",
        "    1.   not ->Reverses the condition (True becomes False,and vice versa)\n",
        "\n",
        "\n",
        "\n",
        "\n"
      ]
    },
    {
      "cell_type": "markdown",
      "metadata": {
        "id": "PNDzVn9_d4Q-"
      },
      "source": [
        "9. What is type casting in python?\n",
        "      - Type casting is converting a value from one data type to another data type. It helps when we need to perfrom operations between different types. This can be done implicity by python or explicity by the programmer.  int(), float(), str(), list(), tuples() are the common type casting function."
      ]
    },
    {
      "cell_type": "markdown",
      "metadata": {
        "id": "PuqKlk9Hf3oc"
      },
      "source": [
        "10. What is the difference between implicit and explicit type casting?\n",
        "  - Python automatically performs type conversion when it has mixed data types in an operation, converting them to a common type to avoid data loss in implicit casting and when automatically conversion isn't possible convert dat type using python built-in funcation in explicit casting.Implicit casting has low control over the conversion process. As explicit casting provides full control over how and when data type are converted. less error since python manage the conversion in implicit casting and explicit casting handle carefully to avoid error."
      ]
    },
    {
      "cell_type": "markdown",
      "metadata": {
        "id": "YcoZm1j2UcmF"
      },
      "source": [
        "11. What is the purpose of conditional statements in python?\n",
        "  - conditional statements in python are used to make decisions in a program. They allow the code to execute different blocks of code based on whether a condition is True or False. This helps in controlling the flow of execuation."
      ]
    },
    {
      "cell_type": "markdown",
      "metadata": {
        "id": "30MP4soVV6Zg"
      },
      "source": [
        "12. How does the elif statement work?\n",
        "  - The program starts by evaluating the if condition. If the if condition is true, its block and then rest of elif and else blocks are ignored. If the if condition is false , python moves to the first elif and checks it.This process continues until a True condition is found. If on condition are true, the else block runs.  "
      ]
    },
    {
      "cell_type": "markdown",
      "metadata": {
        "id": "io6lpdaKXrAq"
      },
      "source": [
        "13. What is the difference between for and while loops?\n",
        "  - For loops are used for iterating over a sequence and while loops are used when the number of iteratoin is unknown based on a condition.for loop have fixed number of literation and while loop runs while the condition is true.for loops are best for iteration over known elemts and while loops repeating action until the condition has met."
      ]
    },
    {
      "cell_type": "markdown",
      "metadata": {
        "id": "YSyZfMU5bvbJ"
      },
      "source": [
        "14. Describe a scenario where a while loops is more suitable than a for loop.\n",
        "  - A while loop is more suitable than a for loop when the number og iteraton is not known. when not a fixed iteration count."
      ]
    },
    {
      "cell_type": "code",
      "execution_count": null,
      "metadata": {
        "colab": {
          "base_uri": "https://localhost:8080/"
        },
        "id": "tBSw1_UgctWZ",
        "outputId": "334ccb5d-78fe-43e5-eeea-22f0350ab6a0"
      },
      "outputs": [
        {
          "name": "stdout",
          "output_type": "stream",
          "text": [
            "hello, world!\n"
          ]
        }
      ],
      "source": [
        "#1 Write a python program to print \"helllo, world!\"\n",
        "a=\"hello, world!\"\n",
        "print(a)"
      ]
    },
    {
      "cell_type": "code",
      "execution_count": null,
      "metadata": {
        "colab": {
          "base_uri": "https://localhost:8080/"
        },
        "id": "1ku1QDqTdPWT",
        "outputId": "11403ade-7d06-4e5e-a45e-d15c01c7ce70"
      },
      "outputs": [
        {
          "name": "stdout",
          "output_type": "stream",
          "text": [
            "please enter your name =Gauri Nagnath Kuber\n",
            "please enter your age=21\n"
          ]
        }
      ],
      "source": [
        "#2  Write a python program that display your name and age\n",
        "name=input( \"please enter your name =\")\n",
        "age=input( \"please enter your age=\")"
      ]
    },
    {
      "cell_type": "code",
      "execution_count": null,
      "metadata": {
        "colab": {
          "base_uri": "https://localhost:8080/"
        },
        "id": "jPMQtUl-eO2h",
        "outputId": "33e48826-7b0c-4a60-b828-320ae7aebe6b"
      },
      "outputs": [
        {
          "name": "stdout",
          "output_type": "stream",
          "text": [
            "False\n",
            "None\n",
            "True\n",
            "and\n",
            "as\n",
            "assert\n",
            "async\n",
            "await\n",
            "break\n",
            "class\n",
            "continue\n",
            "def\n",
            "del\n",
            "elif\n",
            "else\n",
            "except\n",
            "finally\n",
            "for\n",
            "from\n",
            "global\n",
            "if\n",
            "import\n",
            "in\n",
            "is\n",
            "lambda\n",
            "nonlocal\n",
            "not\n",
            "or\n",
            "pass\n",
            "raise\n",
            "return\n",
            "try\n",
            "while\n",
            "with\n",
            "yield\n"
          ]
        }
      ],
      "source": [
        "#3 Write code to print all the predefined keywords in python using the keyword libaray\n",
        "for keywords in keyword_list:\n",
        "  print(keywords)"
      ]
    },
    {
      "cell_type": "code",
      "execution_count": null,
      "metadata": {
        "colab": {
          "base_uri": "https://localhost:8080/"
        },
        "id": "Rx0CycdwgAbx",
        "outputId": "5f4fdf9f-0403-4245-a8b1-0742992ef86d"
      },
      "outputs": [
        {
          "name": "stdout",
          "output_type": "stream",
          "text": [
            "Enter a word: False\n",
            " is a Python keyword.\n"
          ]
        }
      ],
      "source": [
        "#4 Write a program that checks if a given word is a python keyword.\n",
        "word = input(\"Enter a word: \")\n",
        "if keyword.iskeyword(word):\n",
        "    print(\" is a Python keyword.\")\n",
        "else:\n",
        "    print(\"is NOT a Python keyword.\")"
      ]
    },
    {
      "cell_type": "code",
      "execution_count": null,
      "metadata": {
        "colab": {
          "base_uri": "https://localhost:8080/"
        },
        "id": "hsT384E2p2N5",
        "outputId": "2e827d16-d956-436b-9357-ddbc6ffd3d0e"
      },
      "outputs": [
        {
          "name": "stdout",
          "output_type": "stream",
          "text": [
            "[1, 2, 3, 4, 5, 6]\n",
            "(1, 2, 3, 4, 5, 6)\n",
            "[1, 2, 66, 4, 5, 6]\n",
            "(1, 2, [3, 9], 5, 6)\n"
          ]
        }
      ],
      "source": [
        "#5 Create a list and tuples in python , and demonstrate how attemping to change an element works differently for each\n",
        "list=[1,2,3,4,5,6]\n",
        "tuple=(1,2,3,4,5,6)\n",
        "print(list)\n",
        "print(tuple)\n",
        "# modifie list\n",
        "list[2]=66\n",
        "print(list)\n",
        "#modifie tuple\n",
        "tuple=(1,2,[3],5,6)\n",
        "tuple[2].append(9)\n",
        "print(tuple)\n"
      ]
    },
    {
      "cell_type": "code",
      "execution_count": 1,
      "metadata": {
        "id": "cd0WelTrutxa",
        "colab": {
          "base_uri": "https://localhost:8080/"
        },
        "outputId": "4d6c7519-b47d-4fa0-bad9-2dcf3a4f2507"
      },
      "outputs": [
        {
          "output_type": "stream",
          "name": "stdout",
          "text": [
            "Before function call: 5, id: 10750984\n",
            "Before modification (inside function): 5, id: 10750984\n",
            "After modification (inside function): 15, id: 10751304\n",
            "After function call: 5, id: 10750984\n",
            "\n",
            "Before function call: [1, 2, 3], id: 140647485421952\n",
            "Before modification (inside function): [1, 2, 3], id: 140647485421952\n",
            "After modification (inside function): [1, 2, 3, 4], id: 140647485421952\n",
            "After function call: [1, 2, 3, 4], id: 140647485421952\n"
          ]
        }
      ],
      "source": [
        "#6 write a function demonstrate the behavior of mutable and immutable arguments\n",
        "def modify_immutable(x):\n",
        "    print(f\"Before modification (inside function): {x}, id: {id(x)}\")\n",
        "    x += 10  # Creates a new integer object\n",
        "    print(f\"After modification (inside function): {x}, id: {id(x)}\")\n",
        "def modify_mutable(lst):\n",
        "    print(f\"Before modification (inside function): {lst}, id: {id(lst)}\")\n",
        "    lst.append(4)  # Modifies the original list object\n",
        "    print(f\"After modification (inside function): {lst}, id: {id(lst)}\")\n",
        "num = 5\n",
        "print(f\"Before function call: {num}, id: {id(num)}\")\n",
        "modify_immutable(num)\n",
        "print(f\"After function call: {num}, id: {id(num)}\\n\")\n",
        "numbers = [1, 2, 3]\n",
        "print(f\"Before function call: {numbers}, id: {id(numbers)}\")\n",
        "modify_mutable(numbers)\n",
        "print(f\"After function call: {numbers}, id: {id(numbers)}\")\n"
      ]
    },
    {
      "cell_type": "code",
      "execution_count": null,
      "metadata": {
        "colab": {
          "base_uri": "https://localhost:8080/"
        },
        "id": "Q4qw4OtTzuVc",
        "outputId": "3f265b2e-b957-4669-bd71-c67001c8b5e4"
      },
      "outputs": [
        {
          "name": "stdout",
          "output_type": "stream",
          "text": [
            "Enter a number2\n",
            "Enter a number4\n",
            "6\n"
          ]
        }
      ],
      "source": [
        "#7 Write a program that perfroms basic arithmetic operation on two user input number\n",
        "numa=int(input(\"Enter a number\"))\n",
        "numb=int(input(\"Enter a number\"))\n",
        "addition=numa+numb\n",
        "print(addition)"
      ]
    },
    {
      "cell_type": "code",
      "execution_count": null,
      "metadata": {
        "colab": {
          "base_uri": "https://localhost:8080/"
        },
        "id": "anUb1Mdc2CgR",
        "outputId": "e389fa17-1b92-44a4-f7ab-f2ce234ca121"
      },
      "outputs": [
        {
          "name": "stdout",
          "output_type": "stream",
          "text": [
            "Enter a frist number-2\n",
            "Enter a second number-4\n",
            "False\n",
            "False\n",
            "True\n"
          ]
        }
      ],
      "source": [
        "#8 Write a program to demonstrate the use of logical operators\n",
        "a=int(input(\"Enter a frist number\"))\n",
        "b=int(input(\"Enter a second number\"))\n",
        "And= (a>0) and (b>0)\n",
        "Or=(a>0)or(b>0)\n",
        "Not=not (a>0)\n",
        "print(And)\n",
        "print(Or)\n",
        "print(Not)\n"
      ]
    },
    {
      "cell_type": "code",
      "execution_count": null,
      "metadata": {
        "colab": {
          "base_uri": "https://localhost:8080/"
        },
        "id": "vs9yRK8R5Xrc",
        "outputId": "947705d2-4d36-49b1-b704-66f67e45b186"
      },
      "outputs": [
        {
          "name": "stdout",
          "output_type": "stream",
          "text": [
            "2\n",
            "2.0\n",
            "True\n"
          ]
        }
      ],
      "source": [
        "#9 Write a python program to convert user input from string to intger,float.and boolean types\n",
        "# convert string to intger\n",
        "a=\"2\"\n",
        "type(a)\n",
        "b=int(a)\n",
        "type(b)\n",
        "print(b)\n",
        "#convert string to float\n",
        "c=float(a)\n",
        "print(c)\n",
        "#convert string to boolean\n",
        "d=bool(a)\n",
        "print(d)"
      ]
    },
    {
      "cell_type": "code",
      "execution_count": 3,
      "metadata": {
        "colab": {
          "base_uri": "https://localhost:8080/"
        },
        "id": "-kGNJB6I7IeI",
        "outputId": "377c3b0a-a4e4-428a-d6b8-3c1bc0ab2959"
      },
      "outputs": [
        {
          "output_type": "stream",
          "name": "stdout",
          "text": [
            "[10, 20, 30, 40]\n",
            "[10.0, 20.0, 30.0, 40.0]\n",
            "['10', '20', '30', '40']\n"
          ]
        }
      ],
      "source": [
        "#10 write code to demonstrate type casting with list elements\n",
        "list=[\"10\",\"20\",\"30\",\"40\"]\n",
        "int_list=[int(i) for i in list]\n",
        "print(int_list)\n",
        "float_list=[float(i) for i in list]\n",
        "print(float_list)\n",
        "str_list=[ str(i) for i in list]\n",
        "print(str_list)"
      ]
    },
    {
      "cell_type": "code",
      "execution_count": null,
      "metadata": {
        "colab": {
          "base_uri": "https://localhost:8080/"
        },
        "id": "XkT_gYCfCn1n",
        "outputId": "fef4fbfc-d4a1-4a43-acee-e9ec13ace153"
      },
      "outputs": [
        {
          "name": "stdout",
          "output_type": "stream",
          "text": [
            "enter a number0\n",
            "zero\n"
          ]
        }
      ],
      "source": [
        "#11 Write a program  that checks if a number is postive, negative or zero\n",
        "a=int(input(\"enter a number\"))\n",
        "if a>0 :\n",
        "  print(\"positive\")\n",
        "elif a<0 :\n",
        "  print(\"negative\")\n",
        "else :\n",
        "  print(\"zero\")"
      ]
    },
    {
      "cell_type": "code",
      "execution_count": null,
      "metadata": {
        "colab": {
          "base_uri": "https://localhost:8080/"
        },
        "id": "Htva_kOWH6ul",
        "outputId": "a9844e0e-e9a4-4272-b295-1e4e2c6d7928"
      },
      "outputs": [
        {
          "name": "stdout",
          "output_type": "stream",
          "text": [
            "0\n",
            "1\n",
            "2\n",
            "3\n",
            "4\n",
            "5\n",
            "6\n",
            "7\n",
            "8\n",
            "9\n"
          ]
        }
      ],
      "source": [
        "#12 Write a for loop to print number from 1to10\n",
        "for i in range(10):\n",
        "  print(i)\n"
      ]
    },
    {
      "cell_type": "code",
      "execution_count": null,
      "metadata": {
        "colab": {
          "base_uri": "https://localhost:8080/"
        },
        "id": "gCoZ0AOKMBJ6",
        "outputId": "4f1fd247-2cc9-4453-e4e9-3e1026989e38"
      },
      "outputs": [
        {
          "name": "stdout",
          "output_type": "stream",
          "text": [
            "2\n",
            "6\n",
            "12\n",
            "20\n",
            "30\n",
            "42\n",
            "56\n",
            "72\n",
            "90\n",
            "110\n",
            "132\n",
            "156\n",
            "182\n",
            "210\n",
            "240\n",
            "272\n",
            "306\n",
            "342\n",
            "380\n",
            "420\n",
            "462\n",
            "506\n",
            "552\n",
            "600\n",
            "650\n"
          ]
        }
      ],
      "source": [
        "#13 Write a python program to find the sum of all even number between 1 to 50\n",
        "even=0\n",
        "for i in range(1,51):\n",
        "  if i%2 == 0:\n",
        "    even+=i\n",
        "    print(even)"
      ]
    },
    {
      "cell_type": "code",
      "execution_count": null,
      "metadata": {
        "colab": {
          "base_uri": "https://localhost:8080/"
        },
        "id": "wx2-fuQqN3bZ",
        "outputId": "c7111ebe-2626-4774-95a8-fc0c783ee841"
      },
      "outputs": [
        {
          "name": "stdout",
          "output_type": "stream",
          "text": [
            "Enter a string: kuber\n",
            "Reversed string: rebuk\n"
          ]
        }
      ],
      "source": [
        "#14 Write a program to reverse a string using a while loop.\n",
        "def reverse_string(s):\n",
        "    reversed_str = \"\"\n",
        "    i = len(s) - 1\n",
        "    while i >= 0:\n",
        "        reversed_str += s[i]\n",
        "        i -= 1\n",
        "    return reversed_str\n",
        "string = input(\"Enter a string: \")\n",
        "print(\"Reversed string:\", reverse_string(string))\n"
      ]
    },
    {
      "cell_type": "code",
      "execution_count": null,
      "metadata": {
        "colab": {
          "background_save": true,
          "base_uri": "https://localhost:8080/"
        },
        "id": "EbzGqcGvO6gF",
        "outputId": "3daf106d-4965-45d9-ff9c-f4993ad527ee"
      },
      "outputs": [
        {
          "name": "stdout",
          "output_type": "stream",
          "text": [
            "The factorial of 3 is 6 :\n"
          ]
        }
      ],
      "source": [
        "#15 Write a program to calculate the factorial of a number provided by the user using a while loop\n",
        "a = int(input(\"Enter a number: \"))\n",
        "fact = 1\n",
        "i = a\n",
        "while i>0:\n",
        "  fact *= i\n",
        "  i-= 1\n",
        "  print(f\"The factorial of {a} is {fact} :\")\n"
      ]
    }
  ],
  "metadata": {
    "colab": {
      "provenance": []
    },
    "kernelspec": {
      "display_name": "Python 3",
      "name": "python3"
    },
    "language_info": {
      "name": "python"
    }
  },
  "nbformat": 4,
  "nbformat_minor": 0
}